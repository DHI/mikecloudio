{
 "cells": [
  {
   "cell_type": "code",
   "execution_count": null,
   "metadata": {},
   "outputs": [],
   "source": [
    "# !pip install -e ../  # install mikecloudio as package from repo "
   ]
  },
  {
   "cell_type": "code",
   "execution_count": null,
   "metadata": {},
   "outputs": [],
   "source": [
    "import os\n",
    "import pandas as pd\n",
    "from mikecloudio.request import Connection, read_api_key_from_text_file\n",
    "from mikecloudio.multidimensional import get_datetimes_from_dataset, get_multidimensional_dataset, \\\n",
    "    request_multidimensional_data, create_multidimensional_data_query, get_item_info_from_dataset"
   ]
  },
  {
   "cell_type": "code",
   "execution_count": null,
   "metadata": {},
   "outputs": [],
   "source": [
    "connection = Connection(api_key=read_api_key_from_text_file(os.path.join(\"..\", \"api_key.txt\")),\n",
    "                        project_name=\"GHM\")"
   ]
  },
  {
   "cell_type": "code",
   "execution_count": null,
   "metadata": {},
   "outputs": [],
   "source": [
    "dataset_path = \"GHM_CHIRPS/GridData\"\n",
    "\n",
    "dataset = get_multidimensional_dataset(connection, dataset_path)\n",
    "times = get_datetimes_from_dataset(dataset)\n",
    "item_info = get_item_info_from_dataset(dataset)\n",
    "\n",
    "query = create_multidimensional_data_query(item_indices=[0, 1], time_range=[0, 10])\n",
    "data = request_multidimensional_data(connection, dataset_path, query)\n",
    "\n",
    "df = pd.DataFrame(data['dataBlocks'])\n",
    "df.timeIndex = df.timeIndex.map(lambda t: times[t])  # replace time indices by actual datetimes\n",
    "df.data = df.data.map(lambda v: v[0])  # replace lists by single values\n",
    "\n",
    "time_series = df.pivot(index='timeIndex', columns='itemIndex', values='data').rename(columns=item_info.name)"
   ]
  },
  {
   "cell_type": "code",
   "execution_count": null,
   "metadata": {},
   "outputs": [],
   "source": [
    "time_series"
   ]
  }
 ],
 "metadata": {
  "kernelspec": {
   "display_name": "Python 3",
   "language": "python",
   "name": "python3"
  },
  "language_info": {
   "codemirror_mode": {
    "name": "ipython",
    "version": 3
   },
   "file_extension": ".py",
   "mimetype": "text/x-python",
   "name": "python",
   "nbconvert_exporter": "python",
   "pygments_lexer": "ipython3",
   "version": "3.7.3"
  }
 },
 "nbformat": 4,
 "nbformat_minor": 4
}
