{
 "cells": [
  {
   "cell_type": "code",
   "execution_count": null,
   "metadata": {
    "scrolled": false
   },
   "outputs": [],
   "source": [
    "from mikecloudio import wrang, request"
   ]
  },
  {
   "cell_type": "markdown",
   "metadata": {},
   "source": [
    "## Credentials"
   ]
  },
  {
   "cell_type": "code",
   "execution_count": null,
   "metadata": {},
   "outputs": [],
   "source": [
    "# requires key with writing access for testing all functions\n",
    "key = \"\""
   ]
  },
  {
   "cell_type": "code",
   "execution_count": null,
   "metadata": {},
   "outputs": [],
   "source": [
    "# get project ID\n",
    "con = request.ConnectMikeCloud(api_key=key)\n",
    "id_proj = con.query_proj_id(proj_name=\"Stadt Geretsried\")"
   ]
  },
  {
   "cell_type": "markdown",
   "metadata": {},
   "source": [
    "# 1) Establish connection to MikeCloud"
   ]
  },
  {
   "cell_type": "code",
   "execution_count": null,
   "metadata": {},
   "outputs": [],
   "source": [
    "# create instance of ConnectMikeCloud:\n",
    "con = request.ConnectMikeCloud(api_key=key,id_proj=id_proj)\n"
   ]
  },
  {
   "cell_type": "code",
   "execution_count": null,
   "metadata": {},
   "outputs": [],
   "source": [
    "# Alternatively: \n",
    "con = request.ConnectMikeCloud(api_key=key)\n",
    "\n",
    "proj = con.set_project(id_proj=id_proj)\n",
    "# -> returns directly the project object\n"
   ]
  },
  {
   "cell_type": "markdown",
   "metadata": {},
   "source": [
    "## ---> Functions for ConnectMikeCloud Objects:"
   ]
  },
  {
   "cell_type": "code",
   "execution_count": null,
   "metadata": {},
   "outputs": [],
   "source": [
    "# get all projects:\n",
    "df = con.list_projects()\n",
    "df"
   ]
  },
  {
   "cell_type": "code",
   "execution_count": null,
   "metadata": {},
   "outputs": [],
   "source": [
    "# get project ID by name:\n",
    "con.query_proj_id(proj_name=\"Stadt Geretsried\")"
   ]
  },
  {
   "cell_type": "code",
   "execution_count": null,
   "metadata": {},
   "outputs": [],
   "source": [
    "# get project ID\n",
    "con._id_proj\n",
    "# OR\n",
    "proj._id"
   ]
  },
  {
   "cell_type": "code",
   "execution_count": null,
   "metadata": {},
   "outputs": [],
   "source": [
    "# list datasets\n",
    "con.list_ds()"
   ]
  },
  {
   "cell_type": "code",
   "execution_count": null,
   "metadata": {},
   "outputs": [],
   "source": [
    "# get dataset ID by name\n",
    "ds_id = con.query_ds_id(ds_name=\"Geretsried Datenlogger\")"
   ]
  },
  {
   "cell_type": "code",
   "execution_count": null,
   "metadata": {},
   "outputs": [],
   "source": [
    "# create dataset and its instance (optional variables: properties, metadata, content_type)\n",
    "ds = con.create_ds(ds_name=\"Geretsried Datenlogger\",ds_description=\"Dataset für Geretsried Messstellen\")"
   ]
  },
  {
   "cell_type": "code",
   "execution_count": null,
   "metadata": {},
   "outputs": [],
   "source": [
    "# delete dataset\n",
    "con.del_ds(id_ds=ds._id)"
   ]
  },
  {
   "cell_type": "code",
   "execution_count": null,
   "metadata": {
    "scrolled": true
   },
   "outputs": [],
   "source": [
    "# update dataset (does not work yet)\n",
    "con.update_ds(dataset_id=ds_id, upd_name=\"updated_dataset\", upd_descr=\"updated description\")"
   ]
  },
  {
   "cell_type": "code",
   "execution_count": null,
   "metadata": {},
   "outputs": [],
   "source": [
    "# get dataset (returns an instance of Dataset)\n",
    "ds = con.get_ds(id_dataset=\"\")\n",
    "# OR\n",
    "ds = con.get_ds(name_ds=\"Geretsried Datenlogger\")"
   ]
  },
  {
   "cell_type": "markdown",
   "metadata": {},
   "source": [
    "# 2) Create Dataset Object"
   ]
  },
  {
   "cell_type": "code",
   "execution_count": null,
   "metadata": {},
   "outputs": [],
   "source": [
    "# Option 1: \n",
    "ds = request.Dataset(connection=con,dataset_id=\"\")\n",
    "\n",
    "# Option 2:\n",
    "# ds = con.get_ds(id_dataset=\"\")\n",
    "# OR with name\n",
    "ds = con.get_ds(name_ds=\"Geretsried Datenlogger\")"
   ]
  },
  {
   "cell_type": "markdown",
   "metadata": {},
   "source": [
    "## ---> Functions for Dataset Objects:"
   ]
  },
  {
   "cell_type": "code",
   "execution_count": null,
   "metadata": {},
   "outputs": [],
   "source": [
    "ds._id"
   ]
  },
  {
   "cell_type": "code",
   "execution_count": null,
   "metadata": {},
   "outputs": [],
   "source": [
    "# get details of dataset\n",
    "ds.get_ds_info()"
   ]
  },
  {
   "cell_type": "code",
   "execution_count": null,
   "metadata": {
    "scrolled": true
   },
   "outputs": [],
   "source": [
    "# if ID of dataset not set in constructor:\n",
    "ds.set_ds_id(dataset_id=\"\")"
   ]
  },
  {
   "cell_type": "code",
   "execution_count": null,
   "metadata": {},
   "outputs": [],
   "source": [
    "# get all timeseries\n",
    "ds.list_ts()"
   ]
  },
  {
   "cell_type": "code",
   "execution_count": null,
   "metadata": {},
   "outputs": [],
   "source": [
    "# query timeseries id from all timeseries names\n",
    "ds.query_ts_id(\"Test\")"
   ]
  },
  {
   "cell_type": "code",
   "execution_count": null,
   "metadata": {},
   "outputs": [],
   "source": [
    "# creates a timeseries and returns an instances of the newly created timeseries \n",
    "ts = ds.create_ts(name=\"Test\", unit=\"eumUmeter\", item=\"eumIWaterLevel\", data_type=\"Single\", data_fields=None,\n",
    "                  properties=None)\n",
    "\n",
    "ts._id"
   ]
  },
  {
   "cell_type": "code",
   "execution_count": null,
   "metadata": {
    "scrolled": true
   },
   "outputs": [],
   "source": [
    "# delete dataset (corresponding to the instance id)\n",
    "ds.del_ds()\n",
    "\n",
    "# delete timeseries\n",
    "ds.del_ts(timeseries_id=ts._id)"
   ]
  },
  {
   "cell_type": "markdown",
   "metadata": {},
   "source": [
    "# 3) Create Timeseries Object"
   ]
  },
  {
   "cell_type": "code",
   "execution_count": null,
   "metadata": {},
   "outputs": [],
   "source": [
    "# Option 1: \n",
    "#ts = request.Timeseries(dataset=ds,timeseries_id=\"\")\n",
    "\n",
    "# Option 2: from dataset object\n",
    "ts = ds.get_ts(ts_name=\"Test\")\n",
    "#OR\n",
    "#ts = get_ts(ts_id=\"\")"
   ]
  },
  {
   "cell_type": "markdown",
   "metadata": {},
   "source": [
    "## ---> Functions for Timeseries Objects:"
   ]
  },
  {
   "cell_type": "code",
   "execution_count": null,
   "metadata": {
    "scrolled": true
   },
   "outputs": [],
   "source": [
    "# get data of timeseries with set from/to time or without: \n",
    "''' \n",
    "If {from} is not specified, values from the first time step are returned. \n",
    "If {to} is not specified, values to the last time step are returned.\n",
    "'''\n",
    "time_from = \"2018-03-08T150000\"\n",
    "time_to = \"2018-03-08T200000\"\n",
    "\n",
    "ts.get_data(time_from=time_from,time_to=time_to)"
   ]
  },
  {
   "cell_type": "code",
   "execution_count": null,
   "metadata": {
    "scrolled": true
   },
   "outputs": [],
   "source": [
    "# get detailed information about timeseries\n",
    "ts.get_info()"
   ]
  },
  {
   "cell_type": "code",
   "execution_count": null,
   "metadata": {},
   "outputs": [],
   "source": [
    "# add data in form of a dataframe to timeseries (df needs columns with name \"timestamp\" and \"value\")\n",
    "add_data(dataframe=df)"
   ]
  },
  {
   "cell_type": "markdown",
   "metadata": {},
   "source": [
    "## Shortcut "
   ]
  },
  {
   "cell_type": "code",
   "execution_count": null,
   "metadata": {},
   "outputs": [],
   "source": [
    "# method chaining:\n",
    "con = request.ConnectMikeCloud(api_key=key,id_proj=id_proj)\n",
    "ts = con.get_ds(name_ds=\"Geretsried Datenlogger\").get_ts(ts_name=\"Test\")\n",
    "# OR shorter:\n",
    "ts = con.get_ds(\"Geretsried Datenlogger\").get_ts(\"Test\")"
   ]
  }
 ],
 "metadata": {
  "kernelspec": {
   "display_name": "py36",
   "language": "python",
   "name": "py36"
  },
  "language_info": {
   "codemirror_mode": {
    "name": "ipython",
    "version": 3
   },
   "file_extension": ".py",
   "mimetype": "text/x-python",
   "name": "python",
   "nbconvert_exporter": "python",
   "pygments_lexer": "ipython3",
   "version": "3.7.3"
  }
 },
 "nbformat": 4,
 "nbformat_minor": 2
}
