{
 "cells": [
  {
   "cell_type": "code",
   "execution_count": null,
   "metadata": {},
   "outputs": [],
   "source": [
    "from mikecloudio import wrang, request"
   ]
  },
  {
   "cell_type": "markdown",
   "metadata": {},
   "source": [
    "## Credentials"
   ]
  },
  {
   "cell_type": "code",
   "execution_count": null,
   "metadata": {},
   "outputs": [],
   "source": [
    "key = \"\""
   ]
  },
  {
   "cell_type": "code",
   "execution_count": 2,
   "metadata": {},
   "outputs": [],
   "source": [
    "# get project ID\n",
    "con = request.ConnectMikeCloud(api_key=key)\n",
    "id_proj = con.query_proj_id(proj_name=\"Stadt Geretsried\")"
   ]
  },
  {
   "cell_type": "markdown",
   "metadata": {},
   "source": [
    "# 1) Establish connection to MikeCloud"
   ]
  },
  {
   "cell_type": "code",
   "execution_count": null,
   "metadata": {},
   "outputs": [],
   "source": [
    "# create instance of ConnectMikeCloud:\n",
    "con = request.ConnectMikeCloud(api_key=key,id_proj=id_proj)\n"
   ]
  },
  {
   "cell_type": "code",
   "execution_count": null,
   "metadata": {},
   "outputs": [],
   "source": [
    "# Alternatively: \n",
    "con = request.ConnectMikeCloud(api_key=key)\n",
    "\n",
    "proj = con.set_project(id_proj=id_proj)\n",
    "# -> returns directly the project object\n"
   ]
  },
  {
   "cell_type": "markdown",
   "metadata": {},
   "source": [
    "## ---> Functions for ConnectMikeCloud Objects:"
   ]
  },
  {
   "cell_type": "code",
   "execution_count": null,
   "metadata": {},
   "outputs": [],
   "source": [
    "# get all projects:\n",
    "df = con.list_projects()\n",
    "df"
   ]
  },
  {
   "cell_type": "code",
   "execution_count": null,
   "metadata": {},
   "outputs": [],
   "source": [
    "# get project ID by name:\n",
    "con.query_proj_id(proj_name=\"Stadt Geretsried\")"
   ]
  },
  {
   "cell_type": "code",
   "execution_count": null,
   "metadata": {},
   "outputs": [],
   "source": [
    "# get project ID\n",
    "con._id_proj\n",
    "# OR\n",
    "proj._id"
   ]
  },
  {
   "cell_type": "code",
   "execution_count": null,
   "metadata": {},
   "outputs": [],
   "source": [
    "# list datasets\n",
    "con.list_ds()"
   ]
  },
  {
   "cell_type": "code",
   "execution_count": null,
   "metadata": {},
   "outputs": [],
   "source": [
    "# get dataset ID by name\n",
    "ds_id = con.query_ds_id(ds_name=\"test\")"
   ]
  },
  {
   "cell_type": "code",
   "execution_count": null,
   "metadata": {},
   "outputs": [],
   "source": [
    "# create dataset and its instance (optional variables: properties, metadata, content_type)\n",
    "ds = con.create_ds(ds_name=\"Geretsried TS\",ds_description=\"Dataset für Geretsried Messstellen\")"
   ]
  },
  {
   "cell_type": "code",
   "execution_count": null,
   "metadata": {},
   "outputs": [],
   "source": [
    "# delete dataset\n",
    "con.del_ds(id_ds=ds._id)"
   ]
  },
  {
   "cell_type": "code",
   "execution_count": null,
   "metadata": {
    "scrolled": true
   },
   "outputs": [],
   "source": [
    "# update dataset (does not work yet)\n",
    "con.update_ds(dataset_id=ds_id, upd_name=\"updated_dataset\", upd_descr=\"updated description\")"
   ]
  },
  {
   "cell_type": "code",
   "execution_count": null,
   "metadata": {},
   "outputs": [],
   "source": [
    "# get dataset (returns an instance of Dataset)\n",
    "ds = con.get_ds(id_dataset=\"\")\n",
    "# OR\n",
    "ds = con.get_ds(name_ds=\"Downstream_tide.dfs0\")"
   ]
  },
  {
   "cell_type": "markdown",
   "metadata": {},
   "source": [
    "# 2) Create Dataset Object"
   ]
  },
  {
   "cell_type": "code",
   "execution_count": null,
   "metadata": {},
   "outputs": [],
   "source": [
    "# Option 1: \n",
    "ds = request.Dataset(connection=con,dataset_id=\"\")\n",
    "\n",
    "# Option 2:\n",
    "# ds = con.get_ds(id_dataset=\"\")\n",
    "# OR with name\n",
    "ds = con.get_ds(name_ds=\"Geretsried TS\")"
   ]
  },
  {
   "cell_type": "markdown",
   "metadata": {},
   "source": [
    "## ---> Functions for Dataset Objects:"
   ]
  },
  {
   "cell_type": "code",
   "execution_count": null,
   "metadata": {},
   "outputs": [],
   "source": [
    "ds._id"
   ]
  },
  {
   "cell_type": "code",
   "execution_count": null,
   "metadata": {},
   "outputs": [],
   "source": [
    "# get details of dataset\n",
    "ds.get_ds_info()"
   ]
  },
  {
   "cell_type": "code",
   "execution_count": null,
   "metadata": {
    "scrolled": true
   },
   "outputs": [],
   "source": [
    "# if ID of dataset not set in constructor:\n",
    "ds.set_ds_id(dataset_id=\"\")"
   ]
  },
  {
   "cell_type": "code",
   "execution_count": null,
   "metadata": {},
   "outputs": [],
   "source": [
    "# get all timeseries\n",
    "ds.list_ts()"
   ]
  },
  {
   "cell_type": "code",
   "execution_count": null,
   "metadata": {},
   "outputs": [],
   "source": [
    "# query timeseries id from all timeseries names\n",
    "ds.query_ts_id(\"MP05\")"
   ]
  },
  {
   "cell_type": "code",
   "execution_count": null,
   "metadata": {},
   "outputs": [],
   "source": [
    "# creates a timeseries and returns an instances of the newly created timeseries \n",
    "ts = ds.create_ts(name=\"MP05\", unit=\"eumUmeter\", item=\"eumIWaterLevel\", data_type=\"Single\", data_fields=None,\n",
    "                  properties=None)\n",
    "\n",
    "ts._id"
   ]
  },
  {
   "cell_type": "code",
   "execution_count": null,
   "metadata": {
    "scrolled": true
   },
   "outputs": [],
   "source": [
    "# delete dataset (corresponding to the instance id)\n",
    "ds.del_ds()\n",
    "\n",
    "# delete timeseries\n",
    "ds.del_ts(timeseries_id=ts._id)"
   ]
  },
  {
   "cell_type": "markdown",
   "metadata": {},
   "source": [
    "# 3) Create Timeseries Object"
   ]
  },
  {
   "cell_type": "code",
   "execution_count": null,
   "metadata": {},
   "outputs": [],
   "source": [
    "# Option 1: \n",
    "#ts = request.Timeseries(dataset=ds,timeseries_id=\"\")\n",
    "\n",
    "# Option 2: from dataset object\n",
    "ts = ds.get_ts(ts_name=\"MP05\")\n",
    "#OR\n",
    "#ts = get_ts(ts_id=\"\")"
   ]
  },
  {
   "cell_type": "markdown",
   "metadata": {},
   "source": [
    "## ---> Functions for Timeseries Objects:"
   ]
  },
  {
   "cell_type": "code",
   "execution_count": null,
   "metadata": {
    "scrolled": true
   },
   "outputs": [],
   "source": [
    "# get data of timeseries with set from/to time or without: \n",
    "''' \n",
    "If {from} is not specified, values from the first time step are returned. \n",
    "If {to} is not specified, values to the last time step are returned.\n",
    "'''\n",
    "time_from = \"2018-03-08T150000\"\n",
    "time_to = \"2018-03-08T200000\"\n",
    "\n",
    "ts.get_data(time_from=time_from,time_to=time_to)"
   ]
  },
  {
   "cell_type": "code",
   "execution_count": null,
   "metadata": {},
   "outputs": [],
   "source": [
    "# add data in form of a dataframe to timeseries (df needs columns with name \"timestamp\" and \"value\")\n",
    "add_data(dataframe=df)"
   ]
  },
  {
   "cell_type": "markdown",
   "metadata": {},
   "source": [
    "## Shortcut "
   ]
  },
  {
   "cell_type": "code",
   "execution_count": null,
   "metadata": {},
   "outputs": [],
   "source": [
    "# method chaining:\n",
    "con = request.ConnectMikeCloud(api_key='7db3e60a-ea79-4c3c-af0a-06fdcbd6cf90',id_proj='87b3a13d-9f71-4dcc-8843-26a37ff6b49f')\n",
    "ts = con.get_ds(name_ds=\"Geretsried TS\").get_ts(ts_name=\"MP05\")\n",
    "# OR shorter:\n",
    "ts = con.get_ds(\"Geretsried TS\").get_ts(\"MP05\")"
   ]
  },
  {
   "cell_type": "code",
   "execution_count": null,
   "metadata": {
    "scrolled": true
   },
   "outputs": [],
   "source": [
    "ts.get_data()"
   ]
  },
  {
   "cell_type": "markdown",
   "metadata": {},
   "source": [
    "## Direct POST from Insitu Troll API to MIKE CLOUD"
   ]
  },
  {
   "cell_type": "code",
   "execution_count": null,
   "metadata": {},
   "outputs": [],
   "source": [
    "import requests\n",
    "import json\n",
    "import pandas as pd\n",
    "from datetime import datetime, timedelta, timezone, date\n",
    "from oauthlib.oauth2 import BackendApplicationClient\n",
    "from requests.auth import HTTPBasicAuth\n",
    "from requests_oauthlib import OAuth2Session\n"
   ]
  },
  {
   "cell_type": "code",
   "execution_count": null,
   "metadata": {},
   "outputs": [],
   "source": [
    "# need to define client secret (api key) for insitu before \n",
    "client_secret = \"\""
   ]
  },
  {
   "cell_type": "code",
   "execution_count": null,
   "metadata": {
    "scrolled": true
   },
   "outputs": [],
   "source": [
    "forward_data(start_time=\"2018-03-08 13:30:00\",api_key=con._api_key,project_id=con._id_proj,dataset_id=ds._id,timeseries_id=ts._id,metadata_url=con.metadata_service_url,client_secret=client_secret)"
   ]
  },
  {
   "cell_type": "code",
   "execution_count": null,
   "metadata": {},
   "outputs": [],
   "source": [
    "def forward_data(start_time,api_key,project_id,timeseries_id,dataset_id,metadata_url,client_secret):\n",
    "    \n",
    "    # authorization\n",
    "    base_url = 'https://www.hydrovu.com/public-api/oauth/token'\n",
    "    client_id = 'DHIhydroAPI'\n",
    "\n",
    "    client = BackendApplicationClient(client_id=client_id)\n",
    "    oauth = OAuth2Session(client=client)\n",
    "    token = oauth.fetch_token(token_url=base_url, client_id=client_id,\n",
    "            client_secret=client_secret)\n",
    "    token = token['access_token']\n",
    "\n",
    "    headers= {'Authorization': 'Bearer %s' %token}\n",
    "\n",
    "    header_MIKECLOUD = {'dhi-open-api-key': '{0}'.format(api_key),\n",
    "               'dhi-project-id': '{0}'.format(project_id),\n",
    "               'dhi-dataset-id': '{0}'.format(dataset_id),\n",
    "               'dhi-service-id': 'timeseries',\n",
    "               'Content-Type': 'application/json',\n",
    "              }\n",
    "    link = \"{0}api/upload/{1}/timeseries/{2}/json\".format(metadata_url,dataset_id,timeseries_id)\n",
    "    datetime_csv = start_time \n",
    "    startTime = datetime.strptime(datetime_csv, '%Y-%m-%d %H:%M:%S')\n",
    "    startTime = datetime.timestamp(startTime)\n",
    "\n",
    "    startTime = startTime + 9000 #shift time to %H:30:00 for request stability\n",
    "    endTime = startTime + 18000   #10 hours later\n",
    "    currentTime = (datetime.now() - datetime(1970,1,1)).total_seconds()\n",
    "    hr = 3600    #measurements are hourly\n",
    "    time_hr = (range(int(startTime/hr),int(currentTime/hr),5)) #list of time in 5 hour intervals from last measurement until now\n",
    "\n",
    "    for i in time_hr:\n",
    "\n",
    "        url_data = (\"https://www.hydrovu.com/public-api/v1/locations/6444867060236288/data?startTime=%d&endTime=%d\"% (startTime,endTime))\n",
    "        a = datetime.utcfromtimestamp(startTime).strftime('%Y-%m-%d %H:%M:%S')\n",
    "        b = datetime.utcfromtimestamp(endTime).strftime('%Y-%m-%d %H:%M:%S')\n",
    "        print(\"StartTime: %s \" % a)\n",
    "        print(\"EndTime %s\" %b)   \n",
    "            #read data and convert\n",
    "        response = requests.get(url_data, headers=headers)\n",
    "        \n",
    "        response_dict = response.json()\n",
    "        response_dep = response_dict['parameters'][1]['readings']\n",
    "\n",
    "        if not response_dep:\n",
    "            print(\"no data for this timestamp\")\n",
    "            startTime = startTime + 18000   #update url value startTime\n",
    "            endTime = startTime + 18000     #update url value endTime\n",
    "            continue\n",
    "\n",
    "        #convert to dataframe, adjust unix to realtime\n",
    "        depth_to_water = pd.DataFrame(response_dep)\n",
    "        depth_to_water['timestamp'] = pd.to_datetime(depth_to_water['timestamp'],unit='s')  \n",
    "\n",
    "        timestamp_str_import = depth_to_water[\"timestamp\"]\n",
    "       \n",
    "        for index_timestamp in range(len(timestamp_str_import)):\n",
    "            timestamp_dt = timestamp_str_import[index_timestamp]\n",
    "            timestamp_iso = datetime.isoformat(timestamp_dt)\n",
    "\n",
    "            body = '{{\"data\": [[\"{0}\", {1}]]}}'.format(timestamp_iso,depth_to_water[\"value\"][index_timestamp])\n",
    "            response = requests.post(link, headers=header_MIKECLOUD, data=body)\n",
    "            status = response.status_code\n",
    "        startTime = startTime + 18000   #update url value startTime\n",
    "        endTime = startTime + 18000     #update url value endTime\n",
    "\n",
    "    print(\"done\")\n",
    "    \n"
   ]
  }
 ],
 "metadata": {
  "kernelspec": {
   "display_name": "py36",
   "language": "python",
   "name": "py36"
  },
  "language_info": {
   "codemirror_mode": {
    "name": "ipython",
    "version": 3
   },
   "file_extension": ".py",
   "mimetype": "text/x-python",
   "name": "python",
   "nbconvert_exporter": "python",
   "pygments_lexer": "ipython3",
   "version": "3.7.3"
  }
 },
 "nbformat": 4,
 "nbformat_minor": 2
}
